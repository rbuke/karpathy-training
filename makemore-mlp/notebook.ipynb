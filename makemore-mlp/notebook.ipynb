{
 "cells": [
  {
   "cell_type": "code",
   "execution_count": 639,
   "metadata": {},
   "outputs": [],
   "source": [
    "import torch\n",
    "import torch.nn.functional as F\n",
    "import matplotlib.pyplot as plt\n",
    "%matplotlib inline"
   ]
  },
  {
   "cell_type": "code",
   "execution_count": 642,
   "metadata": {},
   "outputs": [
    {
     "data": {
      "text/plain": [
       "['emma',\n",
       " 'olivia',\n",
       " 'ava',\n",
       " 'isabella',\n",
       " 'sophia',\n",
       " 'charlotte',\n",
       " 'mia',\n",
       " 'amelia',\n",
       " 'harper',\n",
       " 'evelyn']"
      ]
     },
     "execution_count": 642,
     "metadata": {},
     "output_type": "execute_result"
    }
   ],
   "source": [
    "# Read in words\n",
    "\n",
    "words = open(file='../data/names.txt',mode='r').read().splitlines()\n",
    "words[:10]"
   ]
  },
  {
   "cell_type": "code",
   "execution_count": null,
   "metadata": {},
   "outputs": [],
   "source": [
    "len(words)"
   ]
  },
  {
   "cell_type": "code",
   "execution_count": 669,
   "metadata": {},
   "outputs": [
    {
     "name": "stdout",
     "output_type": "stream",
     "text": [
      "{1: 'a', 2: 'b', 3: 'c', 4: 'd', 5: 'e', 6: 'f', 7: 'g', 8: 'h', 9: 'i', 10: 'j', 11: 'k', 12: 'l', 13: 'm', 14: 'n', 15: 'o', 16: 'p', 17: 'q', 18: 'r', 19: 's', 20: 't', 21: 'u', 22: 'v', 23: 'w', 24: 'x', 25: 'y', 26: 'z', 0: '.'}\n"
     ]
    },
    {
     "data": {
      "text/plain": [
       "1"
      ]
     },
     "execution_count": 669,
     "metadata": {},
     "output_type": "execute_result"
    }
   ],
   "source": [
    "chars   = sorted(set(''.join(words)))\n",
    "stoi    = {s:i+1 for i,s in enumerate(chars)} # string to integer\n",
    "stoi['.'] = 0 \n",
    "itos = {i:s for s,i in stoi.items()} # integer to string\n",
    "print(itos)"
   ]
  },
  {
   "cell_type": "code",
   "execution_count": 695,
   "metadata": {},
   "outputs": [
    {
     "name": "stdout",
     "output_type": "stream",
     "text": [
      "emma\n",
      "... ----> e\n",
      "..e ----> m\n",
      ".em ----> m\n",
      "emm ----> a\n",
      "mma ----> .\n",
      "olivia\n",
      "... ----> o\n",
      "..o ----> l\n",
      ".ol ----> i\n",
      "oli ----> v\n",
      "liv ----> i\n",
      "ivi ----> a\n",
      "via ----> .\n",
      "ava\n",
      "... ----> a\n",
      "..a ----> v\n",
      ".av ----> a\n",
      "ava ----> .\n",
      "isabella\n",
      "... ----> i\n",
      "..i ----> s\n",
      ".is ----> a\n",
      "isa ----> b\n",
      "sab ----> e\n",
      "abe ----> l\n",
      "bel ----> l\n",
      "ell ----> a\n",
      "lla ----> .\n",
      "sophia\n",
      "... ----> s\n",
      "..s ----> o\n",
      ".so ----> p\n",
      "sop ----> h\n",
      "oph ----> i\n",
      "phi ----> a\n",
      "hia ----> .\n"
     ]
    },
    {
     "data": {
      "text/plain": [
       "tensor([ 5, 13, 13,  1,  0, 15, 12,  9, 22,  9,  1,  0,  1, 22,  1,  0,  9, 19,\n",
       "         1,  2,  5, 12, 12,  1,  0, 19, 15, 16,  8,  9,  1,  0])"
      ]
     },
     "execution_count": 695,
     "metadata": {},
     "output_type": "execute_result"
    }
   ],
   "source": [
    "# Building the dataset\n",
    "block_size = 3\n",
    "\n",
    "X, Y = [], [] # x is input, y is label (i.e. pred)\n",
    "for w in words[:5]:\n",
    "    print(w)\n",
    "    context = [0] * block_size\n",
    "    for ch in w + '.':\n",
    "        ix = stoi[ch]\n",
    "        X.append(context)\n",
    "        Y.append(ix)\n",
    "    \n",
    "        print(''.join(itos[i] for i in context), '---->', itos[ix])\n",
    "        context = context[1:] + [ix]\n",
    "\n",
    "X = torch.tensor(X)\n",
    "Y = torch.tensor(Y) "
   ]
  },
  {
   "cell_type": "markdown",
   "metadata": {},
   "source": [
    "Below we have created 32 examples with 3 inputs (i.e. 3 chars inputted to each example) into the model "
   ]
  },
  {
   "cell_type": "code",
   "execution_count": 711,
   "metadata": {},
   "outputs": [
    {
     "data": {
      "text/plain": [
       "(torch.Size([32, 3]), torch.int64, torch.Size([32]), torch.int64)"
      ]
     },
     "execution_count": 711,
     "metadata": {},
     "output_type": "execute_result"
    }
   ],
   "source": [
    "X.shape, X.dtype, Y.shape, Y.dtype"
   ]
  },
  {
   "cell_type": "markdown",
   "metadata": {},
   "source": [
    "Lets create embeddings in a two dimensional space. We have 27 characters, each of which will have a 2d embedding"
   ]
  },
  {
   "cell_type": "code",
   "execution_count": 706,
   "metadata": {},
   "outputs": [
    {
     "data": {
      "text/plain": [
       "tensor([[ 0.3646, -0.1091],\n",
       "        [ 1.8345, -0.3759],\n",
       "        [ 1.0427,  0.0862],\n",
       "        [-1.0084,  1.1625],\n",
       "        [ 0.0908,  0.0155],\n",
       "        [-1.6450,  0.0996],\n",
       "        [ 0.1930, -0.9899],\n",
       "        [-0.0953, -1.6928],\n",
       "        [-2.4998,  0.0525],\n",
       "        [ 0.3354,  0.4618],\n",
       "        [-0.3805,  0.7080],\n",
       "        [ 0.4160, -0.5902],\n",
       "        [-0.1432, -0.7998],\n",
       "        [ 2.1857, -1.1717],\n",
       "        [-0.5928, -0.2904],\n",
       "        [-0.0981, -0.1122],\n",
       "        [-0.9736,  0.7044],\n",
       "        [-0.8468, -1.1654],\n",
       "        [-1.6480,  0.5245],\n",
       "        [ 0.1453, -1.3135],\n",
       "        [ 2.1102, -0.3519],\n",
       "        [ 1.2241,  0.0788],\n",
       "        [ 1.0755, -0.3262],\n",
       "        [ 0.1876,  0.3373],\n",
       "        [ 0.9418, -1.1469],\n",
       "        [ 1.2171,  1.5643],\n",
       "        [-0.5070, -1.3368]])"
      ]
     },
     "execution_count": 706,
     "metadata": {},
     "output_type": "execute_result"
    }
   ],
   "source": [
    "C = torch.randn((27,2)) # 27 characters each which have 2 dimensional space\n",
    "C"
   ]
  },
  {
   "cell_type": "markdown",
   "metadata": {},
   "source": [
    "The below gets the embedding value for 5th index"
   ]
  },
  {
   "cell_type": "code",
   "execution_count": 709,
   "metadata": {},
   "outputs": [
    {
     "data": {
      "text/plain": [
       "tensor([-1.6450,  0.0996])"
      ]
     },
     "execution_count": 709,
     "metadata": {},
     "output_type": "execute_result"
    }
   ],
   "source": [
    "C[5]"
   ]
  },
  {
   "cell_type": "markdown",
   "metadata": {},
   "source": [
    "We can also feed in multidimension tensors. In our case, we can feed in C[X] where X = torch.Size([32, 3]) 32 examples with 3 inputs for each\n",
    "\n",
    "Creates our embedding"
   ]
  },
  {
   "cell_type": "code",
   "execution_count": 712,
   "metadata": {},
   "outputs": [
    {
     "data": {
      "text/plain": [
       "tensor([[[ 0.3646, -0.1091],\n",
       "         [ 0.3646, -0.1091],\n",
       "         [ 0.3646, -0.1091]],\n",
       "\n",
       "        [[ 0.3646, -0.1091],\n",
       "         [ 0.3646, -0.1091],\n",
       "         [-1.6450,  0.0996]],\n",
       "\n",
       "        [[ 0.3646, -0.1091],\n",
       "         [-1.6450,  0.0996],\n",
       "         [ 2.1857, -1.1717]],\n",
       "\n",
       "        [[-1.6450,  0.0996],\n",
       "         [ 2.1857, -1.1717],\n",
       "         [ 2.1857, -1.1717]],\n",
       "\n",
       "        [[ 2.1857, -1.1717],\n",
       "         [ 2.1857, -1.1717],\n",
       "         [ 1.8345, -0.3759]],\n",
       "\n",
       "        [[ 0.3646, -0.1091],\n",
       "         [ 0.3646, -0.1091],\n",
       "         [ 0.3646, -0.1091]],\n",
       "\n",
       "        [[ 0.3646, -0.1091],\n",
       "         [ 0.3646, -0.1091],\n",
       "         [-0.0981, -0.1122]],\n",
       "\n",
       "        [[ 0.3646, -0.1091],\n",
       "         [-0.0981, -0.1122],\n",
       "         [-0.1432, -0.7998]],\n",
       "\n",
       "        [[-0.0981, -0.1122],\n",
       "         [-0.1432, -0.7998],\n",
       "         [ 0.3354,  0.4618]],\n",
       "\n",
       "        [[-0.1432, -0.7998],\n",
       "         [ 0.3354,  0.4618],\n",
       "         [ 1.0755, -0.3262]],\n",
       "\n",
       "        [[ 0.3354,  0.4618],\n",
       "         [ 1.0755, -0.3262],\n",
       "         [ 0.3354,  0.4618]],\n",
       "\n",
       "        [[ 1.0755, -0.3262],\n",
       "         [ 0.3354,  0.4618],\n",
       "         [ 1.8345, -0.3759]],\n",
       "\n",
       "        [[ 0.3646, -0.1091],\n",
       "         [ 0.3646, -0.1091],\n",
       "         [ 0.3646, -0.1091]],\n",
       "\n",
       "        [[ 0.3646, -0.1091],\n",
       "         [ 0.3646, -0.1091],\n",
       "         [ 1.8345, -0.3759]],\n",
       "\n",
       "        [[ 0.3646, -0.1091],\n",
       "         [ 1.8345, -0.3759],\n",
       "         [ 1.0755, -0.3262]],\n",
       "\n",
       "        [[ 1.8345, -0.3759],\n",
       "         [ 1.0755, -0.3262],\n",
       "         [ 1.8345, -0.3759]],\n",
       "\n",
       "        [[ 0.3646, -0.1091],\n",
       "         [ 0.3646, -0.1091],\n",
       "         [ 0.3646, -0.1091]],\n",
       "\n",
       "        [[ 0.3646, -0.1091],\n",
       "         [ 0.3646, -0.1091],\n",
       "         [ 0.3354,  0.4618]],\n",
       "\n",
       "        [[ 0.3646, -0.1091],\n",
       "         [ 0.3354,  0.4618],\n",
       "         [ 0.1453, -1.3135]],\n",
       "\n",
       "        [[ 0.3354,  0.4618],\n",
       "         [ 0.1453, -1.3135],\n",
       "         [ 1.8345, -0.3759]],\n",
       "\n",
       "        [[ 0.1453, -1.3135],\n",
       "         [ 1.8345, -0.3759],\n",
       "         [ 1.0427,  0.0862]],\n",
       "\n",
       "        [[ 1.8345, -0.3759],\n",
       "         [ 1.0427,  0.0862],\n",
       "         [-1.6450,  0.0996]],\n",
       "\n",
       "        [[ 1.0427,  0.0862],\n",
       "         [-1.6450,  0.0996],\n",
       "         [-0.1432, -0.7998]],\n",
       "\n",
       "        [[-1.6450,  0.0996],\n",
       "         [-0.1432, -0.7998],\n",
       "         [-0.1432, -0.7998]],\n",
       "\n",
       "        [[-0.1432, -0.7998],\n",
       "         [-0.1432, -0.7998],\n",
       "         [ 1.8345, -0.3759]],\n",
       "\n",
       "        [[ 0.3646, -0.1091],\n",
       "         [ 0.3646, -0.1091],\n",
       "         [ 0.3646, -0.1091]],\n",
       "\n",
       "        [[ 0.3646, -0.1091],\n",
       "         [ 0.3646, -0.1091],\n",
       "         [ 0.1453, -1.3135]],\n",
       "\n",
       "        [[ 0.3646, -0.1091],\n",
       "         [ 0.1453, -1.3135],\n",
       "         [-0.0981, -0.1122]],\n",
       "\n",
       "        [[ 0.1453, -1.3135],\n",
       "         [-0.0981, -0.1122],\n",
       "         [-0.9736,  0.7044]],\n",
       "\n",
       "        [[-0.0981, -0.1122],\n",
       "         [-0.9736,  0.7044],\n",
       "         [-2.4998,  0.0525]],\n",
       "\n",
       "        [[-0.9736,  0.7044],\n",
       "         [-2.4998,  0.0525],\n",
       "         [ 0.3354,  0.4618]],\n",
       "\n",
       "        [[-2.4998,  0.0525],\n",
       "         [ 0.3354,  0.4618],\n",
       "         [ 1.8345, -0.3759]]])"
      ]
     },
     "execution_count": 712,
     "metadata": {},
     "output_type": "execute_result"
    }
   ],
   "source": [
    "C[X]"
   ]
  },
  {
   "cell_type": "code",
   "execution_count": 713,
   "metadata": {},
   "outputs": [
    {
     "data": {
      "text/plain": [
       "torch.Size([32, 3, 2])"
      ]
     },
     "execution_count": 713,
     "metadata": {},
     "output_type": "execute_result"
    }
   ],
   "source": [
    "C[X].shape"
   ]
  },
  {
   "cell_type": "code",
   "execution_count": null,
   "metadata": {},
   "outputs": [],
   "source": []
  }
 ],
 "metadata": {
  "kernelspec": {
   "display_name": "Python 3 (ipykernel)",
   "language": "python",
   "name": "python3"
  },
  "language_info": {
   "codemirror_mode": {
    "name": "ipython",
    "version": 3
   },
   "file_extension": ".py",
   "mimetype": "text/x-python",
   "name": "python",
   "nbconvert_exporter": "python",
   "pygments_lexer": "ipython3",
   "version": "3.11.5"
  }
 },
 "nbformat": 4,
 "nbformat_minor": 2
}
